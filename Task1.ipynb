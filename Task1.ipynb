{
 "cells": [
  {
   "cell_type": "code",
   "execution_count": 7,
   "id": "1d4b10cd-79b7-47ab-9417-c8cd47fd8b02",
   "metadata": {},
   "outputs": [
    {
     "name": "stdout",
     "output_type": "stream",
     "text": [
      "List elements: [1, 3, 5, 2, 4, 6]\n"
     ]
    }
   ],
   "source": [
    "#create List \n",
    "\n",
    "\n",
    "My_List=[1,3,5,2,4,6]\n",
    "print(\"List elements:\", My_List)"
   ]
  },
  {
   "cell_type": "code",
   "execution_count": 6,
   "id": "dcf48963-5d74-41d5-9644-a2e62540c80a",
   "metadata": {},
   "outputs": [
    {
     "name": "stdout",
     "output_type": "stream",
     "text": [
      "Modified List is: [1, 2, 4, 8, 8, 8, 8, 8]\n"
     ]
    }
   ],
   "source": [
    "#adding an element\n",
    "My_List.append(8)\n",
    "\n",
    "#Removing an element\n",
    "My_List.remove(6)\n",
    "\n",
    "#modifying The List \n",
    "My_List.insert(4,1)\n",
    "My_List.sort()\n",
    "My_List.pop(1)\n",
    "\n",
    "#updated List\n",
    "print(\"Modified List is:\", My_List)"
   ]
  },
  {
   "cell_type": "code",
   "execution_count": 27,
   "id": "aa45b72f-8042-4597-a805-a08e925bbd86",
   "metadata": {},
   "outputs": [
    {
     "name": "stdout",
     "output_type": "stream",
     "text": [
      " Dictionary is: {'Name': 'Jerry', 'Age': 15, 'Place': 'Delhi'}\n",
      "{'Name': 'Jerry', 'Age': 15, 'Place': 'Delhi'}\n",
      "Updated dict: {'Name': 'Jerry', 'Place': 'Mumbai', 'gender': 'Male'}\n"
     ]
    }
   ],
   "source": [
    "#create Dictionary\n",
    "\n",
    "my_dict= { 'Name': 'Jerry', 'Age':15, 'Place':'Delhi' }\n",
    "print(\" Dictionary is:\", my_dict)\n",
    "\n",
    "my_dict.keys()\n",
    "print(my_dict)\n",
    "#adding\n",
    "my_dict['gender']='Male'\n",
    "#removing\n",
    "del my_dict['Age']\n",
    "\n",
    "#modifying\n",
    "my_dict['Place']='Mumbai'\n",
    "\n",
    "print(\"Updated dict:\", my_dict)\n",
    "\n",
    "\n"
   ]
  },
  {
   "cell_type": "code",
   "execution_count": 26,
   "id": "1fcfc091-09bb-4265-8bf1-191ef89fc94b",
   "metadata": {},
   "outputs": [
    {
     "name": "stdout",
     "output_type": "stream",
     "text": [
      "Set is {1, 2, 3, 4, 5}\n",
      "Updated Set {2, 4, 5, 6, 10}\n"
     ]
    }
   ],
   "source": [
    "#create Set\n",
    "\n",
    "my_set={1,2,3,4,5}\n",
    "print(\"Set is\",my_set)\n",
    "#add\n",
    "\n",
    "my_set.add(6)\n",
    "#remove\n",
    "my_set.remove(3)\n",
    "#modifying\n",
    "my_set.discard(1)\n",
    "my_set.add(10)\n",
    "\n",
    "print(\"Updated Set\", my_set)\n"
   ]
  },
  {
   "cell_type": "code",
   "execution_count": null,
   "id": "30b31783-9f51-4cb8-9248-61e4fb656c25",
   "metadata": {},
   "outputs": [],
   "source": []
  }
 ],
 "metadata": {
  "kernelspec": {
   "display_name": "Python 3 (ipykernel)",
   "language": "python",
   "name": "python3"
  },
  "language_info": {
   "codemirror_mode": {
    "name": "ipython",
    "version": 3
   },
   "file_extension": ".py",
   "mimetype": "text/x-python",
   "name": "python",
   "nbconvert_exporter": "python",
   "pygments_lexer": "ipython3",
   "version": "3.13.0"
  }
 },
 "nbformat": 4,
 "nbformat_minor": 5
}
